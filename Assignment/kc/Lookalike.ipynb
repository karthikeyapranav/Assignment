{
 "cells": [
  {
   "cell_type": "code",
   "execution_count": 1,
   "metadata": {},
   "outputs": [],
   "source": [
    "import pandas as pd\n",
    "from sklearn.preprocessing import StandardScaler\n",
    "from sklearn.metrics.pairwise import cosine_similarity\n"
   ]
  },
  {
   "cell_type": "code",
   "execution_count": 6,
   "metadata": {},
   "outputs": [],
   "source": [
    "# Load the datasets\n",
    "customers = pd.read_csv(r\"C:\\Users\\admin\\Desktop\\dtintern\\dataset\\Customers.csv\")\n",
    "products = pd.read_csv(r\"C:\\Users\\admin\\Desktop\\dtintern\\dataset\\Products.csv\")\n",
    "transactions = pd.read_csv(r\"C:\\Users\\admin\\Desktop\\dtintern\\dataset\\Transactions.csv\")"
   ]
  },
  {
   "cell_type": "code",
   "execution_count": 7,
   "metadata": {},
   "outputs": [
    {
     "name": "stdout",
     "output_type": "stream",
     "text": [
      "Merged Dataset\n",
      "  TransactionID CustomerID ProductID      TransactionDate  Quantity  \\\n",
      "0        T00001      C0199      P067  2024-08-25 12:38:23         1   \n",
      "1        T00112      C0146      P067  2024-05-27 22:23:54         1   \n",
      "2        T00166      C0127      P067  2024-04-25 07:38:55         1   \n",
      "3        T00272      C0087      P067  2024-03-26 22:55:37         2   \n",
      "4        T00363      C0070      P067  2024-03-21 15:10:10         3   \n",
      "\n",
      "   TotalValue  Price_x     CustomerName         Region  SignupDate  \\\n",
      "0      300.68   300.68   Andrea Jenkins         Europe  2022-12-03   \n",
      "1      300.68   300.68  Brittany Harvey           Asia  2024-09-04   \n",
      "2      300.68   300.68  Kathryn Stevens         Europe  2024-04-04   \n",
      "3      601.36   300.68  Travis Campbell  South America  2024-04-11   \n",
      "4      902.04   300.68    Timothy Perez         Europe  2022-03-15   \n",
      "\n",
      "                       ProductName     Category  Price_y  \n",
      "0  ComfortLiving Bluetooth Speaker  Electronics   300.68  \n",
      "1  ComfortLiving Bluetooth Speaker  Electronics   300.68  \n",
      "2  ComfortLiving Bluetooth Speaker  Electronics   300.68  \n",
      "3  ComfortLiving Bluetooth Speaker  Electronics   300.68  \n",
      "4  ComfortLiving Bluetooth Speaker  Electronics   300.68  \n"
     ]
    }
   ],
   "source": [
    "# Merge transactions with customers\n",
    "merged_data = pd.merge(transactions, customers, on=\"CustomerID\")\n",
    "\n",
    "# Merge the above with products\n",
    "merged_data = pd.merge(merged_data, products, on=\"ProductID\")\n",
    "\n",
    "# Preview the merged dataset\n",
    "print(\"Merged Dataset\")\n",
    "print(merged_data.head())\n"
   ]
  },
  {
   "cell_type": "code",
   "execution_count": 9,
   "metadata": {},
   "outputs": [],
   "source": [
    "# Aggregating customer transaction history\n",
    "customer_features = merged_data.groupby(\"CustomerID\").agg({\n",
    "    'TotalValue': 'sum',        # Total revenue\n",
    "    'Quantity': 'sum',          # Total items purchased\n",
    "    'Price_y': 'mean',            # Average price of products purchased\n",
    "    'Region': 'first'           # Region of the customer\n",
    "}).reset_index()\n",
    "\n",
    "# One-hot encoding Region\n",
    "customer_features = pd.get_dummies(customer_features, columns=[\"Region\"])"
   ]
  },
  {
   "cell_type": "code",
   "execution_count": 10,
   "metadata": {},
   "outputs": [],
   "source": [
    "# Normalize numeric features\n",
    "scaler = StandardScaler()\n",
    "numeric_features = ['TotalValue', 'Quantity', 'Price_y']\n",
    "customer_features[numeric_features] = scaler.fit_transform(customer_features[numeric_features])"
   ]
  },
  {
   "cell_type": "code",
   "execution_count": 11,
   "metadata": {},
   "outputs": [],
   "source": [
    "# Calculate pairwise cosine similarity\n",
    "similarity_matrix = cosine_similarity(customer_features[numeric_features])\n",
    "\n",
    "# Add CustomerID back for identification\n",
    "similarity_df = pd.DataFrame(similarity_matrix, index=customer_features['CustomerID'], columns=customer_features['CustomerID'])\n"
   ]
  },
  {
   "cell_type": "code",
   "execution_count": 12,
   "metadata": {},
   "outputs": [],
   "source": [
    "# Function to get top 3 similar customers\n",
    "def get_top_similar(customer_id, similarity_df):\n",
    "    similar_customers = similarity_df[customer_id].sort_values(ascending=False)[1:4]  # Exclude self\n",
    "    return [(index, score) for index, score in similar_customers.items()]\n",
    "\n",
    "# Get lookalikes for the first 20 customers\n",
    "lookalikes = {}\n",
    "for customer_id in customer_features['CustomerID'][:20]:\n",
    "    lookalikes[customer_id] = get_top_similar(customer_id, similarity_df)\n",
    "\n",
    "# Convert to DataFrame and save\n",
    "lookalike_df = pd.DataFrame({\n",
    "    \"CustomerID\": lookalikes.keys(),\n",
    "    \"Lookalikes\": lookalikes.values()\n",
    "})\n",
    "lookalike_df.to_csv(\"FirstName_LastName_Lookalike.csv\", index=False)\n"
   ]
  }
 ],
 "metadata": {
  "kernelspec": {
   "display_name": "Python 3",
   "language": "python",
   "name": "python3"
  },
  "language_info": {
   "codemirror_mode": {
    "name": "ipython",
    "version": 3
   },
   "file_extension": ".py",
   "mimetype": "text/x-python",
   "name": "python",
   "nbconvert_exporter": "python",
   "pygments_lexer": "ipython3",
   "version": "3.10.11"
  }
 },
 "nbformat": 4,
 "nbformat_minor": 2
}
